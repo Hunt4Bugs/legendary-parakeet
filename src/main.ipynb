{
 "cells": [
  {
   "cell_type": "markdown",
   "id": "conceptual-trigger",
   "metadata": {},
   "source": [
    "## Import packages and create postgres connection"
   ]
  },
  {
   "cell_type": "code",
   "execution_count": 1,
   "id": "unnecessary-elimination",
   "metadata": {},
   "outputs": [],
   "source": [
    "%load_ext sql"
   ]
  },
  {
   "cell_type": "code",
   "execution_count": 38,
   "id": "billion-scotland",
   "metadata": {},
   "outputs": [
    {
     "data": {
      "text/html": [
       "\n",
       "    <div class=\"bk-root\">\n",
       "        <a href=\"https://bokeh.org\" target=\"_blank\" class=\"bk-logo bk-logo-small bk-logo-notebook\"></a>\n",
       "        <span id=\"1182\">Loading BokehJS ...</span>\n",
       "    </div>"
      ]
     },
     "metadata": {},
     "output_type": "display_data"
    },
    {
     "data": {
      "application/javascript": [
       "\n",
       "(function(root) {\n",
       "  function now() {\n",
       "    return new Date();\n",
       "  }\n",
       "\n",
       "  var force = true;\n",
       "\n",
       "  if (typeof root._bokeh_onload_callbacks === \"undefined\" || force === true) {\n",
       "    root._bokeh_onload_callbacks = [];\n",
       "    root._bokeh_is_loading = undefined;\n",
       "  }\n",
       "\n",
       "  var JS_MIME_TYPE = 'application/javascript';\n",
       "  var HTML_MIME_TYPE = 'text/html';\n",
       "  var EXEC_MIME_TYPE = 'application/vnd.bokehjs_exec.v0+json';\n",
       "  var CLASS_NAME = 'output_bokeh rendered_html';\n",
       "\n",
       "  /**\n",
       "   * Render data to the DOM node\n",
       "   */\n",
       "  function render(props, node) {\n",
       "    var script = document.createElement(\"script\");\n",
       "    node.appendChild(script);\n",
       "  }\n",
       "\n",
       "  /**\n",
       "   * Handle when an output is cleared or removed\n",
       "   */\n",
       "  function handleClearOutput(event, handle) {\n",
       "    var cell = handle.cell;\n",
       "\n",
       "    var id = cell.output_area._bokeh_element_id;\n",
       "    var server_id = cell.output_area._bokeh_server_id;\n",
       "    // Clean up Bokeh references\n",
       "    if (id != null && id in Bokeh.index) {\n",
       "      Bokeh.index[id].model.document.clear();\n",
       "      delete Bokeh.index[id];\n",
       "    }\n",
       "\n",
       "    if (server_id !== undefined) {\n",
       "      // Clean up Bokeh references\n",
       "      var cmd = \"from bokeh.io.state import curstate; print(curstate().uuid_to_server['\" + server_id + \"'].get_sessions()[0].document.roots[0]._id)\";\n",
       "      cell.notebook.kernel.execute(cmd, {\n",
       "        iopub: {\n",
       "          output: function(msg) {\n",
       "            var id = msg.content.text.trim();\n",
       "            if (id in Bokeh.index) {\n",
       "              Bokeh.index[id].model.document.clear();\n",
       "              delete Bokeh.index[id];\n",
       "            }\n",
       "          }\n",
       "        }\n",
       "      });\n",
       "      // Destroy server and session\n",
       "      var cmd = \"import bokeh.io.notebook as ion; ion.destroy_server('\" + server_id + \"')\";\n",
       "      cell.notebook.kernel.execute(cmd);\n",
       "    }\n",
       "  }\n",
       "\n",
       "  /**\n",
       "   * Handle when a new output is added\n",
       "   */\n",
       "  function handleAddOutput(event, handle) {\n",
       "    var output_area = handle.output_area;\n",
       "    var output = handle.output;\n",
       "\n",
       "    // limit handleAddOutput to display_data with EXEC_MIME_TYPE content only\n",
       "    if ((output.output_type != \"display_data\") || (!output.data.hasOwnProperty(EXEC_MIME_TYPE))) {\n",
       "      return\n",
       "    }\n",
       "\n",
       "    var toinsert = output_area.element.find(\".\" + CLASS_NAME.split(' ')[0]);\n",
       "\n",
       "    if (output.metadata[EXEC_MIME_TYPE][\"id\"] !== undefined) {\n",
       "      toinsert[toinsert.length - 1].firstChild.textContent = output.data[JS_MIME_TYPE];\n",
       "      // store reference to embed id on output_area\n",
       "      output_area._bokeh_element_id = output.metadata[EXEC_MIME_TYPE][\"id\"];\n",
       "    }\n",
       "    if (output.metadata[EXEC_MIME_TYPE][\"server_id\"] !== undefined) {\n",
       "      var bk_div = document.createElement(\"div\");\n",
       "      bk_div.innerHTML = output.data[HTML_MIME_TYPE];\n",
       "      var script_attrs = bk_div.children[0].attributes;\n",
       "      for (var i = 0; i < script_attrs.length; i++) {\n",
       "        toinsert[toinsert.length - 1].firstChild.setAttribute(script_attrs[i].name, script_attrs[i].value);\n",
       "        toinsert[toinsert.length - 1].firstChild.textContent = bk_div.children[0].textContent\n",
       "      }\n",
       "      // store reference to server id on output_area\n",
       "      output_area._bokeh_server_id = output.metadata[EXEC_MIME_TYPE][\"server_id\"];\n",
       "    }\n",
       "  }\n",
       "\n",
       "  function register_renderer(events, OutputArea) {\n",
       "\n",
       "    function append_mime(data, metadata, element) {\n",
       "      // create a DOM node to render to\n",
       "      var toinsert = this.create_output_subarea(\n",
       "        metadata,\n",
       "        CLASS_NAME,\n",
       "        EXEC_MIME_TYPE\n",
       "      );\n",
       "      this.keyboard_manager.register_events(toinsert);\n",
       "      // Render to node\n",
       "      var props = {data: data, metadata: metadata[EXEC_MIME_TYPE]};\n",
       "      render(props, toinsert[toinsert.length - 1]);\n",
       "      element.append(toinsert);\n",
       "      return toinsert\n",
       "    }\n",
       "\n",
       "    /* Handle when an output is cleared or removed */\n",
       "    events.on('clear_output.CodeCell', handleClearOutput);\n",
       "    events.on('delete.Cell', handleClearOutput);\n",
       "\n",
       "    /* Handle when a new output is added */\n",
       "    events.on('output_added.OutputArea', handleAddOutput);\n",
       "\n",
       "    /**\n",
       "     * Register the mime type and append_mime function with output_area\n",
       "     */\n",
       "    OutputArea.prototype.register_mime_type(EXEC_MIME_TYPE, append_mime, {\n",
       "      /* Is output safe? */\n",
       "      safe: true,\n",
       "      /* Index of renderer in `output_area.display_order` */\n",
       "      index: 0\n",
       "    });\n",
       "  }\n",
       "\n",
       "  // register the mime type if in Jupyter Notebook environment and previously unregistered\n",
       "  if (root.Jupyter !== undefined) {\n",
       "    var events = require('base/js/events');\n",
       "    var OutputArea = require('notebook/js/outputarea').OutputArea;\n",
       "\n",
       "    if (OutputArea.prototype.mime_types().indexOf(EXEC_MIME_TYPE) == -1) {\n",
       "      register_renderer(events, OutputArea);\n",
       "    }\n",
       "  }\n",
       "\n",
       "  \n",
       "  if (typeof (root._bokeh_timeout) === \"undefined\" || force === true) {\n",
       "    root._bokeh_timeout = Date.now() + 5000;\n",
       "    root._bokeh_failed_load = false;\n",
       "  }\n",
       "\n",
       "  var NB_LOAD_WARNING = {'data': {'text/html':\n",
       "     \"<div style='background-color: #fdd'>\\n\"+\n",
       "     \"<p>\\n\"+\n",
       "     \"BokehJS does not appear to have successfully loaded. If loading BokehJS from CDN, this \\n\"+\n",
       "     \"may be due to a slow or bad network connection. Possible fixes:\\n\"+\n",
       "     \"</p>\\n\"+\n",
       "     \"<ul>\\n\"+\n",
       "     \"<li>re-rerun `output_notebook()` to attempt to load from CDN again, or</li>\\n\"+\n",
       "     \"<li>use INLINE resources instead, as so:</li>\\n\"+\n",
       "     \"</ul>\\n\"+\n",
       "     \"<code>\\n\"+\n",
       "     \"from bokeh.resources import INLINE\\n\"+\n",
       "     \"output_notebook(resources=INLINE)\\n\"+\n",
       "     \"</code>\\n\"+\n",
       "     \"</div>\"}};\n",
       "\n",
       "  function display_loaded() {\n",
       "    var el = document.getElementById(\"1182\");\n",
       "    if (el != null) {\n",
       "      el.textContent = \"BokehJS is loading...\";\n",
       "    }\n",
       "    if (root.Bokeh !== undefined) {\n",
       "      if (el != null) {\n",
       "        el.textContent = \"BokehJS \" + root.Bokeh.version + \" successfully loaded.\";\n",
       "      }\n",
       "    } else if (Date.now() < root._bokeh_timeout) {\n",
       "      setTimeout(display_loaded, 100)\n",
       "    }\n",
       "  }\n",
       "\n",
       "\n",
       "  function run_callbacks() {\n",
       "    try {\n",
       "      root._bokeh_onload_callbacks.forEach(function(callback) {\n",
       "        if (callback != null)\n",
       "          callback();\n",
       "      });\n",
       "    } finally {\n",
       "      delete root._bokeh_onload_callbacks\n",
       "    }\n",
       "    console.debug(\"Bokeh: all callbacks have finished\");\n",
       "  }\n",
       "\n",
       "  function load_libs(css_urls, js_urls, callback) {\n",
       "    if (css_urls == null) css_urls = [];\n",
       "    if (js_urls == null) js_urls = [];\n",
       "\n",
       "    root._bokeh_onload_callbacks.push(callback);\n",
       "    if (root._bokeh_is_loading > 0) {\n",
       "      console.debug(\"Bokeh: BokehJS is being loaded, scheduling callback at\", now());\n",
       "      return null;\n",
       "    }\n",
       "    if (js_urls == null || js_urls.length === 0) {\n",
       "      run_callbacks();\n",
       "      return null;\n",
       "    }\n",
       "    console.debug(\"Bokeh: BokehJS not loaded, scheduling load and callback at\", now());\n",
       "    root._bokeh_is_loading = css_urls.length + js_urls.length;\n",
       "\n",
       "    function on_load() {\n",
       "      root._bokeh_is_loading--;\n",
       "      if (root._bokeh_is_loading === 0) {\n",
       "        console.debug(\"Bokeh: all BokehJS libraries/stylesheets loaded\");\n",
       "        run_callbacks()\n",
       "      }\n",
       "    }\n",
       "\n",
       "    function on_error() {\n",
       "      console.error(\"failed to load \" + url);\n",
       "    }\n",
       "\n",
       "    for (var i = 0; i < css_urls.length; i++) {\n",
       "      var url = css_urls[i];\n",
       "      const element = document.createElement(\"link\");\n",
       "      element.onload = on_load;\n",
       "      element.onerror = on_error;\n",
       "      element.rel = \"stylesheet\";\n",
       "      element.type = \"text/css\";\n",
       "      element.href = url;\n",
       "      console.debug(\"Bokeh: injecting link tag for BokehJS stylesheet: \", url);\n",
       "      document.body.appendChild(element);\n",
       "    }\n",
       "\n",
       "    const hashes = {\"https://cdn.bokeh.org/bokeh/release/bokeh-2.2.3.min.js\": \"T2yuo9Oe71Cz/I4X9Ac5+gpEa5a8PpJCDlqKYO0CfAuEszu1JrXLl8YugMqYe3sM\", \"https://cdn.bokeh.org/bokeh/release/bokeh-widgets-2.2.3.min.js\": \"98GDGJ0kOMCUMUePhksaQ/GYgB3+NH9h996V88sh3aOiUNX3N+fLXAtry6xctSZ6\", \"https://cdn.bokeh.org/bokeh/release/bokeh-tables-2.2.3.min.js\": \"89bArO+nlbP3sgakeHjCo1JYxYR5wufVgA3IbUvDY+K7w4zyxJqssu7wVnfeKCq8\"};\n",
       "\n",
       "    for (var i = 0; i < js_urls.length; i++) {\n",
       "      var url = js_urls[i];\n",
       "      var element = document.createElement('script');\n",
       "      element.onload = on_load;\n",
       "      element.onerror = on_error;\n",
       "      element.async = false;\n",
       "      element.src = url;\n",
       "      if (url in hashes) {\n",
       "        element.crossOrigin = \"anonymous\";\n",
       "        element.integrity = \"sha384-\" + hashes[url];\n",
       "      }\n",
       "      console.debug(\"Bokeh: injecting script tag for BokehJS library: \", url);\n",
       "      document.head.appendChild(element);\n",
       "    }\n",
       "  };\n",
       "\n",
       "  function inject_raw_css(css) {\n",
       "    const element = document.createElement(\"style\");\n",
       "    element.appendChild(document.createTextNode(css));\n",
       "    document.body.appendChild(element);\n",
       "  }\n",
       "\n",
       "  \n",
       "  var js_urls = [\"https://cdn.bokeh.org/bokeh/release/bokeh-2.2.3.min.js\", \"https://cdn.bokeh.org/bokeh/release/bokeh-widgets-2.2.3.min.js\", \"https://cdn.bokeh.org/bokeh/release/bokeh-tables-2.2.3.min.js\"];\n",
       "  var css_urls = [];\n",
       "  \n",
       "\n",
       "  var inline_js = [\n",
       "    function(Bokeh) {\n",
       "      Bokeh.set_log_level(\"info\");\n",
       "    },\n",
       "    function(Bokeh) {\n",
       "    \n",
       "    \n",
       "    }\n",
       "  ];\n",
       "\n",
       "  function run_inline_js() {\n",
       "    \n",
       "    if (root.Bokeh !== undefined || force === true) {\n",
       "      \n",
       "    for (var i = 0; i < inline_js.length; i++) {\n",
       "      inline_js[i].call(root, root.Bokeh);\n",
       "    }\n",
       "    if (force === true) {\n",
       "        display_loaded();\n",
       "      }} else if (Date.now() < root._bokeh_timeout) {\n",
       "      setTimeout(run_inline_js, 100);\n",
       "    } else if (!root._bokeh_failed_load) {\n",
       "      console.log(\"Bokeh: BokehJS failed to load within specified timeout.\");\n",
       "      root._bokeh_failed_load = true;\n",
       "    } else if (force !== true) {\n",
       "      var cell = $(document.getElementById(\"1182\")).parents('.cell').data().cell;\n",
       "      cell.output_area.append_execute_result(NB_LOAD_WARNING)\n",
       "    }\n",
       "\n",
       "  }\n",
       "\n",
       "  if (root._bokeh_is_loading === 0) {\n",
       "    console.debug(\"Bokeh: BokehJS loaded, going straight to plotting\");\n",
       "    run_inline_js();\n",
       "  } else {\n",
       "    load_libs(css_urls, js_urls, function() {\n",
       "      console.debug(\"Bokeh: BokehJS plotting callback run at\", now());\n",
       "      run_inline_js();\n",
       "    });\n",
       "  }\n",
       "}(window));"
      ],
      "application/vnd.bokehjs_load.v0+json": "\n(function(root) {\n  function now() {\n    return new Date();\n  }\n\n  var force = true;\n\n  if (typeof root._bokeh_onload_callbacks === \"undefined\" || force === true) {\n    root._bokeh_onload_callbacks = [];\n    root._bokeh_is_loading = undefined;\n  }\n\n  \n\n  \n  if (typeof (root._bokeh_timeout) === \"undefined\" || force === true) {\n    root._bokeh_timeout = Date.now() + 5000;\n    root._bokeh_failed_load = false;\n  }\n\n  var NB_LOAD_WARNING = {'data': {'text/html':\n     \"<div style='background-color: #fdd'>\\n\"+\n     \"<p>\\n\"+\n     \"BokehJS does not appear to have successfully loaded. If loading BokehJS from CDN, this \\n\"+\n     \"may be due to a slow or bad network connection. Possible fixes:\\n\"+\n     \"</p>\\n\"+\n     \"<ul>\\n\"+\n     \"<li>re-rerun `output_notebook()` to attempt to load from CDN again, or</li>\\n\"+\n     \"<li>use INLINE resources instead, as so:</li>\\n\"+\n     \"</ul>\\n\"+\n     \"<code>\\n\"+\n     \"from bokeh.resources import INLINE\\n\"+\n     \"output_notebook(resources=INLINE)\\n\"+\n     \"</code>\\n\"+\n     \"</div>\"}};\n\n  function display_loaded() {\n    var el = document.getElementById(\"1182\");\n    if (el != null) {\n      el.textContent = \"BokehJS is loading...\";\n    }\n    if (root.Bokeh !== undefined) {\n      if (el != null) {\n        el.textContent = \"BokehJS \" + root.Bokeh.version + \" successfully loaded.\";\n      }\n    } else if (Date.now() < root._bokeh_timeout) {\n      setTimeout(display_loaded, 100)\n    }\n  }\n\n\n  function run_callbacks() {\n    try {\n      root._bokeh_onload_callbacks.forEach(function(callback) {\n        if (callback != null)\n          callback();\n      });\n    } finally {\n      delete root._bokeh_onload_callbacks\n    }\n    console.debug(\"Bokeh: all callbacks have finished\");\n  }\n\n  function load_libs(css_urls, js_urls, callback) {\n    if (css_urls == null) css_urls = [];\n    if (js_urls == null) js_urls = [];\n\n    root._bokeh_onload_callbacks.push(callback);\n    if (root._bokeh_is_loading > 0) {\n      console.debug(\"Bokeh: BokehJS is being loaded, scheduling callback at\", now());\n      return null;\n    }\n    if (js_urls == null || js_urls.length === 0) {\n      run_callbacks();\n      return null;\n    }\n    console.debug(\"Bokeh: BokehJS not loaded, scheduling load and callback at\", now());\n    root._bokeh_is_loading = css_urls.length + js_urls.length;\n\n    function on_load() {\n      root._bokeh_is_loading--;\n      if (root._bokeh_is_loading === 0) {\n        console.debug(\"Bokeh: all BokehJS libraries/stylesheets loaded\");\n        run_callbacks()\n      }\n    }\n\n    function on_error() {\n      console.error(\"failed to load \" + url);\n    }\n\n    for (var i = 0; i < css_urls.length; i++) {\n      var url = css_urls[i];\n      const element = document.createElement(\"link\");\n      element.onload = on_load;\n      element.onerror = on_error;\n      element.rel = \"stylesheet\";\n      element.type = \"text/css\";\n      element.href = url;\n      console.debug(\"Bokeh: injecting link tag for BokehJS stylesheet: \", url);\n      document.body.appendChild(element);\n    }\n\n    const hashes = {\"https://cdn.bokeh.org/bokeh/release/bokeh-2.2.3.min.js\": \"T2yuo9Oe71Cz/I4X9Ac5+gpEa5a8PpJCDlqKYO0CfAuEszu1JrXLl8YugMqYe3sM\", \"https://cdn.bokeh.org/bokeh/release/bokeh-widgets-2.2.3.min.js\": \"98GDGJ0kOMCUMUePhksaQ/GYgB3+NH9h996V88sh3aOiUNX3N+fLXAtry6xctSZ6\", \"https://cdn.bokeh.org/bokeh/release/bokeh-tables-2.2.3.min.js\": \"89bArO+nlbP3sgakeHjCo1JYxYR5wufVgA3IbUvDY+K7w4zyxJqssu7wVnfeKCq8\"};\n\n    for (var i = 0; i < js_urls.length; i++) {\n      var url = js_urls[i];\n      var element = document.createElement('script');\n      element.onload = on_load;\n      element.onerror = on_error;\n      element.async = false;\n      element.src = url;\n      if (url in hashes) {\n        element.crossOrigin = \"anonymous\";\n        element.integrity = \"sha384-\" + hashes[url];\n      }\n      console.debug(\"Bokeh: injecting script tag for BokehJS library: \", url);\n      document.head.appendChild(element);\n    }\n  };\n\n  function inject_raw_css(css) {\n    const element = document.createElement(\"style\");\n    element.appendChild(document.createTextNode(css));\n    document.body.appendChild(element);\n  }\n\n  \n  var js_urls = [\"https://cdn.bokeh.org/bokeh/release/bokeh-2.2.3.min.js\", \"https://cdn.bokeh.org/bokeh/release/bokeh-widgets-2.2.3.min.js\", \"https://cdn.bokeh.org/bokeh/release/bokeh-tables-2.2.3.min.js\"];\n  var css_urls = [];\n  \n\n  var inline_js = [\n    function(Bokeh) {\n      Bokeh.set_log_level(\"info\");\n    },\n    function(Bokeh) {\n    \n    \n    }\n  ];\n\n  function run_inline_js() {\n    \n    if (root.Bokeh !== undefined || force === true) {\n      \n    for (var i = 0; i < inline_js.length; i++) {\n      inline_js[i].call(root, root.Bokeh);\n    }\n    if (force === true) {\n        display_loaded();\n      }} else if (Date.now() < root._bokeh_timeout) {\n      setTimeout(run_inline_js, 100);\n    } else if (!root._bokeh_failed_load) {\n      console.log(\"Bokeh: BokehJS failed to load within specified timeout.\");\n      root._bokeh_failed_load = true;\n    } else if (force !== true) {\n      var cell = $(document.getElementById(\"1182\")).parents('.cell').data().cell;\n      cell.output_area.append_execute_result(NB_LOAD_WARNING)\n    }\n\n  }\n\n  if (root._bokeh_is_loading === 0) {\n    console.debug(\"Bokeh: BokehJS loaded, going straight to plotting\");\n    run_inline_js();\n  } else {\n    load_libs(css_urls, js_urls, function() {\n      console.debug(\"Bokeh: BokehJS plotting callback run at\", now());\n      run_inline_js();\n    });\n  }\n}(window));"
     },
     "metadata": {},
     "output_type": "display_data"
    }
   ],
   "source": [
    "import pandas as pd\n",
    "import os\n",
    "import psycopg2\n",
    "import sqlalchemy\n",
    "from sqlalchemy import create_engine\n",
    "import networkx as nx\n",
    "from bokeh.io import output_notebook, show, save\n",
    "output_notebook()\n",
    "\n",
    "from bokeh.io import output_notebook, show, save\n",
    "from bokeh.models import Range1d, Circle, ColumnDataSource, MultiLine\n",
    "from bokeh.plotting import figure\n",
    "from bokeh.plotting import from_networkx\n",
    "\n",
    "POSTGRES_USER = os.environ['POSTGRES_USER']\n",
    "POSTGRES_PASSWORD = os.environ['POSTGRES_PASSWORD']\n",
    "POSTGRES_ADDRESS = os.environ['POSTGRES_ADDRESS']\n",
    "POSTGRES_PORT = os.environ['POSTGRES_PORT']\n",
    "POSTGRES_DB = os.environ['POSTGRES_DB']\n",
    "postgres_str = ('postgresql://{username}:{password}@{ipaddress}:{port}/{dbname}'.format(\n",
    "    username=POSTGRES_USER,\n",
    "    password=POSTGRES_PASSWORD,\n",
    "    ipaddress=POSTGRES_ADDRESS,\n",
    "    port=POSTGRES_PORT,\n",
    "    dbname=POSTGRES_DB))"
   ]
  },
  {
   "cell_type": "code",
   "execution_count": 3,
   "id": "historic-suspension",
   "metadata": {},
   "outputs": [
    {
     "data": {
      "text/plain": [
       "'Connected: app_user@app_db'"
      ]
     },
     "execution_count": 3,
     "metadata": {},
     "output_type": "execute_result"
    }
   ],
   "source": [
    "%sql $postgres_str"
   ]
  },
  {
   "cell_type": "code",
   "execution_count": 4,
   "id": "czech-employer",
   "metadata": {},
   "outputs": [],
   "source": [
    "cnx = create_engine(postgres_str)"
   ]
  },
  {
   "cell_type": "markdown",
   "id": "distant-sixth",
   "metadata": {},
   "source": [
    "# Part 1: Create data model\n",
    "</br>\n",
    "<img src=\"./data_model.png\">"
   ]
  },
  {
   "cell_type": "markdown",
   "id": "exceptional-likelihood",
   "metadata": {},
   "source": [
    "## Explanation\n",
    "</br>\n",
    "The given data and problem set points towards a graph database as a good candidate for a data storage solution. However, i don't have too much experience with graph databases. Therefore, I will be using a postgres database and will model the data in 3NF (Third Normal Form). "
   ]
  },
  {
   "cell_type": "code",
   "execution_count": 5,
   "id": "funny-strengthening",
   "metadata": {},
   "outputs": [
    {
     "name": "stdout",
     "output_type": "stream",
     "text": [
      " * postgresql://app_user:***@db:5432/app_db\n",
      "Done.\n",
      "Done.\n"
     ]
    },
    {
     "data": {
      "text/plain": [
       "[]"
      ]
     },
     "execution_count": 5,
     "metadata": {},
     "output_type": "execute_result"
    }
   ],
   "source": [
    "%sql DROP SCHEMA public CASCADE; CREATE SCHEMA public;"
   ]
  },
  {
   "cell_type": "code",
   "execution_count": 6,
   "id": "periodic-vanilla",
   "metadata": {},
   "outputs": [
    {
     "name": "stdout",
     "output_type": "stream",
     "text": [
      " * postgresql://app_user:***@db:5432/app_db\n",
      "Done.\n"
     ]
    },
    {
     "data": {
      "text/plain": [
       "[]"
      ]
     },
     "execution_count": 6,
     "metadata": {},
     "output_type": "execute_result"
    }
   ],
   "source": [
    "%sql create table if not exists person ( id text primary key, name text not null, phone text);"
   ]
  },
  {
   "cell_type": "code",
   "execution_count": 7,
   "id": "spoken-smoke",
   "metadata": {},
   "outputs": [
    {
     "name": "stdout",
     "output_type": "stream",
     "text": [
      " * postgresql://app_user:***@db:5432/app_db\n",
      "Done.\n"
     ]
    },
    {
     "data": {
      "text/plain": [
       "[]"
      ]
     },
     "execution_count": 7,
     "metadata": {},
     "output_type": "execute_result"
    }
   ],
   "source": [
    "%sql create table if not exists car ( id text primary key, make text not null, model text not null);"
   ]
  },
  {
   "cell_type": "code",
   "execution_count": 8,
   "id": "parallel-compromise",
   "metadata": {},
   "outputs": [
    {
     "name": "stdout",
     "output_type": "stream",
     "text": [
      " * postgresql://app_user:***@db:5432/app_db\n",
      "Done.\n"
     ]
    },
    {
     "data": {
      "text/plain": [
       "[]"
      ]
     },
     "execution_count": 8,
     "metadata": {},
     "output_type": "execute_result"
    }
   ],
   "source": [
    "%sql create table if not exists team (id text primary key, name text not null);"
   ]
  },
  {
   "cell_type": "code",
   "execution_count": 9,
   "id": "extraordinary-personal",
   "metadata": {},
   "outputs": [
    {
     "name": "stdout",
     "output_type": "stream",
     "text": [
      " * postgresql://app_user:***@db:5432/app_db\n",
      "Done.\n"
     ]
    },
    {
     "data": {
      "text/plain": [
       "[]"
      ]
     },
     "execution_count": 9,
     "metadata": {},
     "output_type": "execute_result"
    }
   ],
   "source": [
    "%sql create table if not exists district (id text primary key, name text not null);"
   ]
  },
  {
   "cell_type": "code",
   "execution_count": 10,
   "id": "perfect-kennedy",
   "metadata": {},
   "outputs": [
    {
     "name": "stdout",
     "output_type": "stream",
     "text": [
      " * postgresql://app_user:***@db:5432/app_db\n",
      "Done.\n"
     ]
    },
    {
     "data": {
      "text/plain": [
       "[]"
      ]
     },
     "execution_count": 10,
     "metadata": {},
     "output_type": "execute_result"
    }
   ],
   "source": [
    "%sql create table if not exists school (id text primary key, name text not null, district_id text, foreign key (district_id) references district (id));"
   ]
  },
  {
   "cell_type": "code",
   "execution_count": 11,
   "id": "lovely-andrew",
   "metadata": {},
   "outputs": [
    {
     "name": "stdout",
     "output_type": "stream",
     "text": [
      " * postgresql://app_user:***@db:5432/app_db\n",
      "Done.\n"
     ]
    },
    {
     "data": {
      "text/plain": [
       "[]"
      ]
     },
     "execution_count": 11,
     "metadata": {},
     "output_type": "execute_result"
    }
   ],
   "source": [
    "%sql create table if not exists attends (person_id text not null, school_id text not null, foreign key (person_id) references person (id), foreign key (school_id) references school (id));"
   ]
  },
  {
   "cell_type": "code",
   "execution_count": 12,
   "id": "outstanding-violin",
   "metadata": {},
   "outputs": [
    {
     "name": "stdout",
     "output_type": "stream",
     "text": [
      " * postgresql://app_user:***@db:5432/app_db\n",
      "Done.\n"
     ]
    },
    {
     "data": {
      "text/plain": [
       "[]"
      ]
     },
     "execution_count": 12,
     "metadata": {},
     "output_type": "execute_result"
    }
   ],
   "source": [
    "%sql create table if not exists drives (person_id text not null, car_id text not null, foreign key (person_id) references person (id), foreign key (car_id) references car (id));"
   ]
  },
  {
   "cell_type": "code",
   "execution_count": 13,
   "id": "alpha-confusion",
   "metadata": {},
   "outputs": [
    {
     "name": "stdout",
     "output_type": "stream",
     "text": [
      " * postgresql://app_user:***@db:5432/app_db\n",
      "Done.\n"
     ]
    },
    {
     "data": {
      "text/plain": [
       "[]"
      ]
     },
     "execution_count": 13,
     "metadata": {},
     "output_type": "execute_result"
    }
   ],
   "source": [
    "%sql create table if not exists plays_for (person_id text not null, team_id text not null, foreign key (person_id) references person (id), foreign key (team_id) references team (id));"
   ]
  },
  {
   "cell_type": "code",
   "execution_count": 14,
   "id": "seeing-earth",
   "metadata": {},
   "outputs": [
    {
     "name": "stdout",
     "output_type": "stream",
     "text": [
      " * postgresql://app_user:***@db:5432/app_db\n",
      "Done.\n"
     ]
    },
    {
     "data": {
      "text/plain": [
       "[]"
      ]
     },
     "execution_count": 14,
     "metadata": {},
     "output_type": "execute_result"
    }
   ],
   "source": [
    "%sql create table if not exists studies_with (person_id text not null, person2_id text not null, foreign key (person_id) references person (id), foreign key (person2_id) references person (id));"
   ]
  },
  {
   "cell_type": "code",
   "execution_count": 15,
   "id": "republican-compatibility",
   "metadata": {},
   "outputs": [
    {
     "name": "stdout",
     "output_type": "stream",
     "text": [
      " * postgresql://app_user:***@db:5432/app_db\n",
      "Done.\n"
     ]
    },
    {
     "data": {
      "text/plain": [
       "[]"
      ]
     },
     "execution_count": 15,
     "metadata": {},
     "output_type": "execute_result"
    }
   ],
   "source": [
    "%sql create table if not exists friends_with (person_id text not null, person2_id text not null, foreign key (person_id) references person (id), foreign key (person2_id) references person (id));"
   ]
  },
  {
   "cell_type": "markdown",
   "id": "meaning-danger",
   "metadata": {},
   "source": [
    "## Read data and save to DB"
   ]
  },
  {
   "cell_type": "code",
   "execution_count": 16,
   "id": "immediate-passion",
   "metadata": {},
   "outputs": [],
   "source": [
    "# Read data\n",
    "entity_properties = pd.read_csv('./datasets/entity_properties.txt', sep='\\t')\n",
    "relationships = pd.read_csv('./datasets/entity_relationships.txt', sep='\\t')\n",
    "\n",
    "# Clean dataframes\n",
    "entity_properties.columns = [x.strip() for x in entity_properties.columns]\n",
    "relationships.columns = [x.strip() for x in relationships.columns]\n",
    "for col in entity_properties.columns:\n",
    "    entity_properties = entity_properties.apply(lambda x: x.str.strip())\n",
    "for col in relationships.columns:\n",
    "    relationships = relationships.apply(lambda x: x.str.strip())"
   ]
  },
  {
   "cell_type": "code",
   "execution_count": 17,
   "id": "rapid-advocacy",
   "metadata": {},
   "outputs": [],
   "source": [
    "# store unique entities\n",
    "entities = set(relationships['Type1'].unique()) | set(relationships['Type2'].unique())\n",
    "for ent in entities:\n",
    "    tmp1 = set(relationships.loc[relationships['Type1'] == ent]['ID1'].unique())\n",
    "    tmp2 = set(relationships.loc[relationships['Type2'] == ent]['ID2'].unique())\n",
    "    ent_ids = list(tmp1 | tmp2)\n",
    "    if ent == 'Car':\n",
    "        makes = entity_properties.loc[entity_properties['ID'].isin(ent_ids) & (entity_properties['Property'] == 'Make')][['ID', 'Value']]\n",
    "        makes.columns = ['id', 'make']\n",
    "        models = entity_properties.loc[entity_properties['ID'].isin(ent_ids) & (entity_properties['Property'] == 'Model')][['ID', 'Value']]\n",
    "        models.columns = ['id', 'model']\n",
    "        cars = makes.merge(models, how='left', on='id')\n",
    "        cars.to_sql(ent.lower(), cnx, if_exists='append', index=False)\n",
    "    else:\n",
    "        datadf = entity_properties.loc[entity_properties['ID'].isin(ent_ids) & (entity_properties['Property'] == 'Name')][['ID', 'Value']].copy()\n",
    "        datadf.columns = ['id', 'name']\n",
    "        datadf.to_sql(ent.lower(), cnx, if_exists='append', index=False)"
   ]
  },
  {
   "cell_type": "code",
   "execution_count": 18,
   "id": "pretty-glance",
   "metadata": {},
   "outputs": [],
   "source": [
    "# store relationships\n",
    "unique_rels = relationships['Relationship'].unique().tolist()\n",
    "for rel in unique_rels:\n",
    "    tmp = relationships.loc[relationships['Relationship'] == rel][['ID1', 'ID2']].copy()\n",
    "    table = rel.lower()\n",
    "    if rel == 'STUDIES_WITH' or rel == 'FRIENDS_WITH':\n",
    "        tmp.columns = [f'person_id', f'person2_id']\n",
    "    elif rel == 'ATTENDS':\n",
    "        tmp.columns = [f'person_id', f'school_id']\n",
    "    elif rel == 'DRIVES':\n",
    "        tmp.columns = [f'person_id', f'car_id']\n",
    "    elif rel == 'PLAYS_FOR':\n",
    "        tmp.columns = [f'person_id', f'team_id']\n",
    "    elif rel == 'BELONGS_TO':\n",
    "        tmp.columns = ['id', f'district_id']\n",
    "        schools = pd.read_sql_table('school', cnx)[['id', 'name']].copy()\n",
    "        tmp = tmp.merge(schools, how='left', on='id')\n",
    "        table = 'school'\n",
    "    tmp.to_sql(table, cnx, if_exists='replace', index=False)"
   ]
  },
  {
   "cell_type": "markdown",
   "id": "deadly-argentina",
   "metadata": {},
   "source": [
    "Verify tables were created correctly"
   ]
  },
  {
   "cell_type": "code",
   "execution_count": 19,
   "id": "accepting-diameter",
   "metadata": {},
   "outputs": [
    {
     "name": "stdout",
     "output_type": "stream",
     "text": [
      " * postgresql://app_user:***@db:5432/app_db\n",
      "11 rows affected.\n"
     ]
    },
    {
     "data": {
      "text/html": [
       "<table>\n",
       "    <thead>\n",
       "        <tr>\n",
       "            <th>person_id</th>\n",
       "            <th>person_name</th>\n",
       "            <th>school_id</th>\n",
       "            <th>school_name</th>\n",
       "            <th>district_name</th>\n",
       "        </tr>\n",
       "    </thead>\n",
       "    <tbody>\n",
       "        <tr>\n",
       "            <td>A</td>\n",
       "            <td>Ally</td>\n",
       "            <td>X</td>\n",
       "            <td>Shermer</td>\n",
       "            <td>Shermer</td>\n",
       "        </tr>\n",
       "        <tr>\n",
       "            <td>B</td>\n",
       "            <td>Molly</td>\n",
       "            <td>X</td>\n",
       "            <td>Shermer</td>\n",
       "            <td>Shermer</td>\n",
       "        </tr>\n",
       "        <tr>\n",
       "            <td>I</td>\n",
       "            <td>Brad</td>\n",
       "            <td>None</td>\n",
       "            <td>None</td>\n",
       "            <td>None</td>\n",
       "        </tr>\n",
       "        <tr>\n",
       "            <td>H</td>\n",
       "            <td>Martin</td>\n",
       "            <td>None</td>\n",
       "            <td>None</td>\n",
       "            <td>None</td>\n",
       "        </tr>\n",
       "        <tr>\n",
       "            <td>G</td>\n",
       "            <td>Kieff</td>\n",
       "            <td>None</td>\n",
       "            <td>None</td>\n",
       "            <td>None</td>\n",
       "        </tr>\n",
       "        <tr>\n",
       "            <td>J</td>\n",
       "            <td>Joe</td>\n",
       "            <td>None</td>\n",
       "            <td>None</td>\n",
       "            <td>None</td>\n",
       "        </tr>\n",
       "        <tr>\n",
       "            <td>Z</td>\n",
       "            <td>Anthony</td>\n",
       "            <td>None</td>\n",
       "            <td>None</td>\n",
       "            <td>None</td>\n",
       "        </tr>\n",
       "        <tr>\n",
       "            <td>C</td>\n",
       "            <td>Emilio</td>\n",
       "            <td>None</td>\n",
       "            <td>None</td>\n",
       "            <td>None</td>\n",
       "        </tr>\n",
       "        <tr>\n",
       "            <td>K</td>\n",
       "            <td>Kevin</td>\n",
       "            <td>None</td>\n",
       "            <td>None</td>\n",
       "            <td>None</td>\n",
       "        </tr>\n",
       "        <tr>\n",
       "            <td>L</td>\n",
       "            <td>Demm</td>\n",
       "            <td>None</td>\n",
       "            <td>None</td>\n",
       "            <td>None</td>\n",
       "        </tr>\n",
       "        <tr>\n",
       "            <td>D</td>\n",
       "            <td>Judd</td>\n",
       "            <td>None</td>\n",
       "            <td>None</td>\n",
       "            <td>None</td>\n",
       "        </tr>\n",
       "    </tbody>\n",
       "</table>"
      ],
      "text/plain": [
       "[('A', 'Ally', 'X', 'Shermer', 'Shermer'),\n",
       " ('B', 'Molly', 'X', 'Shermer', 'Shermer'),\n",
       " ('I', 'Brad', None, None, None),\n",
       " ('H', 'Martin', None, None, None),\n",
       " ('G', 'Kieff', None, None, None),\n",
       " ('J', 'Joe', None, None, None),\n",
       " ('Z', 'Anthony', None, None, None),\n",
       " ('C', 'Emilio', None, None, None),\n",
       " ('K', 'Kevin', None, None, None),\n",
       " ('L', 'Demm', None, None, None),\n",
       " ('D', 'Judd', None, None, None)]"
      ]
     },
     "execution_count": 19,
     "metadata": {},
     "output_type": "execute_result"
    }
   ],
   "source": [
    "%sql select person.id as person_id, person.name as person_name, attends.school_id, school.name as school_name, district.name as district_name from person left join attends on attends.person_id = person.id left join school on school.id = attends.school_id left join district on school.district_id = district.id"
   ]
  },
  {
   "cell_type": "markdown",
   "id": "unusual-corps",
   "metadata": {},
   "source": [
    "# Part 2: Finding cliques in data\n",
    "## Explanation:\n",
    "Initially, I only included the edges of people who were **friends** **with** each other (as per the description of the problem). That graph resulted in only two person cliques. In order to make it more interesting, I added the connection[s] of people who **studied** **with** each other as well. Unfortunately, this only added one more edge to the graph. Fortunately, that one more edge created a clique of three vertices as you will see in the last cell."
   ]
  },
  {
   "cell_type": "code",
   "execution_count": 56,
   "id": "union-consolidation",
   "metadata": {},
   "outputs": [],
   "source": [
    "friends = pd.read_sql(\"select person.id as person_id, person2.id as person2_id from friends_with fw left join person on person.id = fw.person_id left join person person2 on person2.id = fw.person2_id\", cnx)\n",
    "studybuddy = pd.read_sql(\"select p1.id as person_id, p2.id as person2_id from studies_with sw join person p1 on p1.id = sw.person_id join person p2 on p2.id = sw.person2_id\", cnx)\n",
    "edges = pd.concat([friends, studybuddy])\n",
    "G = nx.from_pandas_edgelist(edges, source='person_id', target='person2_id')\n"
   ]
  },
  {
   "cell_type": "code",
   "execution_count": 55,
   "id": "sized-specialist",
   "metadata": {},
   "outputs": [
    {
     "data": {
      "text/html": [
       "\n",
       "\n",
       "\n",
       "\n",
       "\n",
       "\n",
       "  <div class=\"bk-root\" id=\"09897423-9d86-4f28-996b-cfb6660857a6\" data-root-id=\"1845\"></div>\n"
      ]
     },
     "metadata": {},
     "output_type": "display_data"
    },
    {
     "data": {
      "application/javascript": [
       "(function(root) {\n",
       "  function embed_document(root) {\n",
       "    \n",
       "  var docs_json = {\"66157f16-2cc6-4ec1-8ba4-de8a08113d6e\":{\"roots\":{\"references\":[{\"attributes\":{\"below\":[{\"id\":\"1854\"}],\"center\":[{\"id\":\"1857\"},{\"id\":\"1861\"}],\"left\":[{\"id\":\"1858\"}],\"renderers\":[{\"id\":\"1873\"}],\"title\":{\"id\":\"1846\"},\"toolbar\":{\"id\":\"1867\"},\"x_range\":{\"id\":\"1843\"},\"x_scale\":{\"id\":\"1850\"},\"y_range\":{\"id\":\"1844\"},\"y_scale\":{\"id\":\"1852\"}},\"id\":\"1845\",\"subtype\":\"Figure\",\"type\":\"Plot\"},{\"attributes\":{\"edge_renderer\":{\"id\":\"1880\"},\"inspection_policy\":{\"id\":\"1983\"},\"layout_provider\":{\"id\":\"1882\"},\"node_renderer\":{\"id\":\"1876\"},\"selection_policy\":{\"id\":\"1978\"}},\"id\":\"1873\",\"type\":\"GraphRenderer\"},{\"attributes\":{},\"id\":\"1989\",\"type\":\"UnionRenderers\"},{\"attributes\":{},\"id\":\"1850\",\"type\":\"LinearScale\"},{\"attributes\":{\"text\":\"Friends and Study Buddies\"},\"id\":\"1846\",\"type\":\"Title\"},{\"attributes\":{\"end\":10.1,\"start\":-10.1},\"id\":\"1844\",\"type\":\"Range1d\"},{\"attributes\":{\"data\":{\"index\":[\"A\",\"C\",\"B\",\"G\",\"H\",\"K\",\"Z\",\"I\",\"J\",\"D\",\"L\"]},\"selected\":{\"id\":\"1988\"},\"selection_policy\":{\"id\":\"1989\"}},\"id\":\"1875\",\"type\":\"ColumnDataSource\"},{\"attributes\":{\"axis\":{\"id\":\"1854\"},\"ticker\":null},\"id\":\"1857\",\"type\":\"Grid\"},{\"attributes\":{\"formatter\":{\"id\":\"1984\"},\"ticker\":{\"id\":\"1859\"}},\"id\":\"1858\",\"type\":\"LinearAxis\"},{\"attributes\":{},\"id\":\"1978\",\"type\":\"NodesOnly\"},{\"attributes\":{\"end\":10.1,\"start\":-10.1},\"id\":\"1843\",\"type\":\"Range1d\"},{\"attributes\":{},\"id\":\"1852\",\"type\":\"LinearScale\"},{\"attributes\":{},\"id\":\"1991\",\"type\":\"UnionRenderers\"},{\"attributes\":{},\"id\":\"1855\",\"type\":\"BasicTicker\"},{\"attributes\":{},\"id\":\"1983\",\"type\":\"NodesOnly\"},{\"attributes\":{\"formatter\":{\"id\":\"1986\"},\"ticker\":{\"id\":\"1855\"}},\"id\":\"1854\",\"type\":\"LinearAxis\"},{\"attributes\":{\"axis\":{\"id\":\"1858\"},\"dimension\":1,\"ticker\":null},\"id\":\"1861\",\"type\":\"Grid\"},{\"attributes\":{},\"id\":\"1859\",\"type\":\"BasicTicker\"},{\"attributes\":{\"line_alpha\":{\"value\":0.5}},\"id\":\"1888\",\"type\":\"MultiLine\"},{\"attributes\":{\"source\":{\"id\":\"1875\"}},\"id\":\"1877\",\"type\":\"CDSView\"},{\"attributes\":{},\"id\":\"1986\",\"type\":\"BasicTickFormatter\"},{\"attributes\":{\"callback\":null,\"tooltips\":[[\"Person\",\"@index\"]]},\"id\":\"1866\",\"type\":\"HoverTool\"},{\"attributes\":{},\"id\":\"1863\",\"type\":\"WheelZoomTool\"},{\"attributes\":{},\"id\":\"1990\",\"type\":\"Selection\"},{\"attributes\":{\"graph_layout\":{\"A\":[6.444088958237244,3.004782357396406],\"B\":[10.0,3.2450750651895857],\"C\":[8.543620732109952,0.4868194409290497],\"D\":[-8.68558238250566,-6.846578125914963],\"G\":[5.756621775317453,-2.40787585443394],\"H\":[1.460124368485501,-2.451441091923],\"I\":[-6.658004348323706,2.4691903864028104],\"J\":[1.6950236169206003,2.214282733925177],\"K\":[-2.6464029829273117,-0.3864412894012573],\"L\":[-6.031200800717415,-3.989755716083245],\"Z\":[-9.87828893659666,4.661942093913374]}},\"id\":\"1882\",\"type\":\"StaticLayoutProvider\"},{\"attributes\":{},\"id\":\"1864\",\"type\":\"SaveTool\"},{\"attributes\":{\"data\":{\"end\":[\"C\",\"J\",\"B\",\"B\",\"G\",\"H\",\"K\",\"I\",\"J\",\"L\",\"I\",\"L\"],\"start\":[\"A\",\"A\",\"A\",\"C\",\"C\",\"G\",\"H\",\"K\",\"K\",\"K\",\"Z\",\"D\"]},\"selected\":{\"id\":\"1990\"},\"selection_policy\":{\"id\":\"1991\"}},\"id\":\"1879\",\"type\":\"ColumnDataSource\"},{\"attributes\":{},\"id\":\"1862\",\"type\":\"PanTool\"},{\"attributes\":{},\"id\":\"1988\",\"type\":\"Selection\"},{\"attributes\":{\"active_drag\":\"auto\",\"active_inspect\":\"auto\",\"active_multi\":null,\"active_scroll\":{\"id\":\"1863\"},\"active_tap\":\"auto\",\"tools\":[{\"id\":\"1862\"},{\"id\":\"1863\"},{\"id\":\"1864\"},{\"id\":\"1865\"},{\"id\":\"1866\"}]},\"id\":\"1867\",\"type\":\"Toolbar\"},{\"attributes\":{\"data_source\":{\"id\":\"1875\"},\"glyph\":{\"id\":\"1883\"},\"hover_glyph\":null,\"muted_glyph\":null,\"view\":{\"id\":\"1877\"}},\"id\":\"1876\",\"type\":\"GlyphRenderer\"},{\"attributes\":{},\"id\":\"1984\",\"type\":\"BasicTickFormatter\"},{\"attributes\":{\"fill_color\":{\"value\":\"skyblue\"},\"size\":{\"units\":\"screen\",\"value\":15}},\"id\":\"1883\",\"type\":\"Circle\"},{\"attributes\":{\"data_source\":{\"id\":\"1879\"},\"glyph\":{\"id\":\"1888\"},\"hover_glyph\":null,\"muted_glyph\":null,\"view\":{\"id\":\"1881\"}},\"id\":\"1880\",\"type\":\"GlyphRenderer\"},{\"attributes\":{\"source\":{\"id\":\"1879\"}},\"id\":\"1881\",\"type\":\"CDSView\"},{\"attributes\":{},\"id\":\"1865\",\"type\":\"ResetTool\"}],\"root_ids\":[\"1845\"]},\"title\":\"Bokeh Application\",\"version\":\"2.2.3\"}};\n",
       "  var render_items = [{\"docid\":\"66157f16-2cc6-4ec1-8ba4-de8a08113d6e\",\"root_ids\":[\"1845\"],\"roots\":{\"1845\":\"09897423-9d86-4f28-996b-cfb6660857a6\"}}];\n",
       "  root.Bokeh.embed.embed_items_notebook(docs_json, render_items);\n",
       "\n",
       "  }\n",
       "  if (root.Bokeh !== undefined) {\n",
       "    embed_document(root);\n",
       "  } else {\n",
       "    var attempts = 0;\n",
       "    var timer = setInterval(function(root) {\n",
       "      if (root.Bokeh !== undefined) {\n",
       "        clearInterval(timer);\n",
       "        embed_document(root);\n",
       "      } else {\n",
       "        attempts++;\n",
       "        if (attempts > 100) {\n",
       "          clearInterval(timer);\n",
       "          console.log(\"Bokeh: ERROR: Unable to run BokehJS code because BokehJS library is missing\");\n",
       "        }\n",
       "      }\n",
       "    }, 10, root)\n",
       "  }\n",
       "})(window);"
      ],
      "application/vnd.bokehjs_exec.v0+json": ""
     },
     "metadata": {
      "application/vnd.bokehjs_exec.v0+json": {
       "id": "1845"
      }
     },
     "output_type": "display_data"
    }
   ],
   "source": [
    "title = \"Friends and Study Buddies\"\n",
    "HOVER_TOOLTIPS = [(\"Person\", \"@index\")]\n",
    "#Create a plot — set dimensions, toolbar, and title\n",
    "plot = figure(\n",
    "    tooltips=HOVER_TOOLTIPS,\n",
    "    tools=\"pan,wheel_zoom,save,reset\", active_scroll='wheel_zoom',\n",
    "    x_range=Range1d(-10.1, 10.1), y_range=Range1d(-10.1, 10.1), title=title)\n",
    "\n",
    "#Create a network graph object with spring layout\n",
    "# https://networkx.github.io/documentation/networkx-1.9/reference/generated/networkx.drawing.layout.spring_layout.html\n",
    "network_graph = from_networkx(G, nx.spring_layout, scale=10, center=(0, 0))\n",
    "\n",
    "#Set node size and color\n",
    "network_graph.node_renderer.glyph = Circle(size=15, fill_color='skyblue')\n",
    "\n",
    "#Set edge opacity and width\n",
    "network_graph.edge_renderer.glyph = MultiLine(line_alpha=0.5, line_width=1)\n",
    "\n",
    "#Add network graph to the plot\n",
    "plot.renderers.append(network_graph)\n",
    "\n",
    "show(plot)"
   ]
  },
  {
   "cell_type": "code",
   "execution_count": 57,
   "id": "orange-metropolitan",
   "metadata": {},
   "outputs": [
    {
     "name": "stdout",
     "output_type": "stream",
     "text": [
      "List of cliques:\n",
      "['C', 'G']\n",
      "['C', 'A', 'B']\n",
      "['K', 'L']\n",
      "['K', 'H']\n",
      "['K', 'J']\n",
      "['K', 'I']\n",
      "['A', 'J']\n",
      "['Z', 'I']\n",
      "['G', 'H']\n",
      "['D', 'L']\n"
     ]
    }
   ],
   "source": [
    "print('List of cliques:')\n",
    "for c in nx.algorithms.clique.find_cliques(G):\n",
    "    print(c)"
   ]
  }
 ],
 "metadata": {
  "kernelspec": {
   "display_name": "Python 3",
   "language": "python",
   "name": "python3"
  },
  "language_info": {
   "codemirror_mode": {
    "name": "ipython",
    "version": 3
   },
   "file_extension": ".py",
   "mimetype": "text/x-python",
   "name": "python",
   "nbconvert_exporter": "python",
   "pygments_lexer": "ipython3",
   "version": "3.8.6"
  }
 },
 "nbformat": 4,
 "nbformat_minor": 5
}
